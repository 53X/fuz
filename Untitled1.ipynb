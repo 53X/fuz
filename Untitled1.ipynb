{
 "cells": [
  {
   "cell_type": "markdown",
   "metadata": {},
   "source": [
    "# Reading the dataset,  preprocessing and converting to consumable format"
   ]
  },
  {
   "cell_type": "code",
   "execution_count": 1,
   "metadata": {},
   "outputs": [],
   "source": [
    "from sklearn.model_selection import train_test_split\n",
    "from sklearn.preprocessing import MinMaxScaler\n",
    "import numpy as np\n",
    "import pandas as pd"
   ]
  },
  {
   "cell_type": "code",
   "execution_count": 2,
   "metadata": {},
   "outputs": [],
   "source": [
    "df = pd.read_csv('export_aud_usd.csv')"
   ]
  },
  {
   "cell_type": "code",
   "execution_count": 3,
   "metadata": {},
   "outputs": [],
   "source": [
    "df['Date'] = pd.to_datetime(df['Date'])\n",
    "df['new_date'] = [ d.date() for d in df['Date']]\n",
    "df['new_time'] = [d.time() for d in df['Date']]"
   ]
  },
  {
   "cell_type": "code",
   "execution_count": 4,
   "metadata": {},
   "outputs": [],
   "source": [
    "df = df[['Date', 'new_date', 'new_time', 'Open', 'High', 'Low', 'Close', 'Volume', 'Volatility', 'ADX',\n",
    "       'Ich_TENKANSEN', 'Ich_KIJUNSEN', 'Ich_SENKOUSPANA', 'Ich_SENKOUSPANB',\n",
    "       'Ich_CHIKOUSPAN', 'MA1', 'MA2', 'MACD_Main', 'MACD_Signal', 'RSI',\n",
    "       'Stoch_Main', 'Stoch_Signal', 'StdDev', 'PSAR', 'Change']]\n",
    "\n",
    "scaler = MinMaxScaler(feature_range = (0, 1))\n",
    "scaler_target  = MinMaxScaler(feature_range = (0, 1))"
   ]
  },
  {
   "cell_type": "code",
   "execution_count": 5,
   "metadata": {},
   "outputs": [
    {
     "data": {
      "text/html": [
       "<div>\n",
       "<style scoped>\n",
       "    .dataframe tbody tr th:only-of-type {\n",
       "        vertical-align: middle;\n",
       "    }\n",
       "\n",
       "    .dataframe tbody tr th {\n",
       "        vertical-align: top;\n",
       "    }\n",
       "\n",
       "    .dataframe thead th {\n",
       "        text-align: right;\n",
       "    }\n",
       "</style>\n",
       "<table border=\"1\" class=\"dataframe\">\n",
       "  <thead>\n",
       "    <tr style=\"text-align: right;\">\n",
       "      <th></th>\n",
       "      <th>Date</th>\n",
       "      <th>new_date</th>\n",
       "      <th>new_time</th>\n",
       "      <th>Open</th>\n",
       "      <th>High</th>\n",
       "      <th>Low</th>\n",
       "      <th>Close</th>\n",
       "      <th>Volume</th>\n",
       "      <th>Volatility</th>\n",
       "      <th>ADX</th>\n",
       "      <th>...</th>\n",
       "      <th>MA1</th>\n",
       "      <th>MA2</th>\n",
       "      <th>MACD_Main</th>\n",
       "      <th>MACD_Signal</th>\n",
       "      <th>RSI</th>\n",
       "      <th>Stoch_Main</th>\n",
       "      <th>Stoch_Signal</th>\n",
       "      <th>StdDev</th>\n",
       "      <th>PSAR</th>\n",
       "      <th>Change</th>\n",
       "    </tr>\n",
       "  </thead>\n",
       "  <tbody>\n",
       "    <tr>\n",
       "      <th>0</th>\n",
       "      <td>2020-06-24 08:37:00</td>\n",
       "      <td>2020-06-24</td>\n",
       "      <td>08:37:00</td>\n",
       "      <td>0.69236</td>\n",
       "      <td>0.69244</td>\n",
       "      <td>0.69207</td>\n",
       "      <td>0.69226</td>\n",
       "      <td>82</td>\n",
       "      <td>0.0</td>\n",
       "      <td>0.000000</td>\n",
       "      <td>...</td>\n",
       "      <td>0.0</td>\n",
       "      <td>0.692260</td>\n",
       "      <td>0.000000</td>\n",
       "      <td>0.0</td>\n",
       "      <td>0.0</td>\n",
       "      <td>0.0</td>\n",
       "      <td>0.0</td>\n",
       "      <td>0.0</td>\n",
       "      <td>0.000000</td>\n",
       "      <td>0.00037</td>\n",
       "    </tr>\n",
       "    <tr>\n",
       "      <th>1</th>\n",
       "      <td>2020-06-24 08:38:00</td>\n",
       "      <td>2020-06-24</td>\n",
       "      <td>08:38:00</td>\n",
       "      <td>0.69226</td>\n",
       "      <td>0.69226</td>\n",
       "      <td>0.69163</td>\n",
       "      <td>0.69176</td>\n",
       "      <td>76</td>\n",
       "      <td>0.0</td>\n",
       "      <td>13.333333</td>\n",
       "      <td>...</td>\n",
       "      <td>0.0</td>\n",
       "      <td>0.692240</td>\n",
       "      <td>-0.000040</td>\n",
       "      <td>0.0</td>\n",
       "      <td>0.0</td>\n",
       "      <td>0.0</td>\n",
       "      <td>0.0</td>\n",
       "      <td>0.0</td>\n",
       "      <td>0.692440</td>\n",
       "      <td>0.00026</td>\n",
       "    </tr>\n",
       "    <tr>\n",
       "      <th>2</th>\n",
       "      <td>2020-06-24 08:39:00</td>\n",
       "      <td>2020-06-24</td>\n",
       "      <td>08:39:00</td>\n",
       "      <td>0.69177</td>\n",
       "      <td>0.69187</td>\n",
       "      <td>0.69147</td>\n",
       "      <td>0.69154</td>\n",
       "      <td>87</td>\n",
       "      <td>0.0</td>\n",
       "      <td>24.888889</td>\n",
       "      <td>...</td>\n",
       "      <td>0.0</td>\n",
       "      <td>0.692213</td>\n",
       "      <td>-0.000088</td>\n",
       "      <td>0.0</td>\n",
       "      <td>0.0</td>\n",
       "      <td>0.0</td>\n",
       "      <td>0.0</td>\n",
       "      <td>0.0</td>\n",
       "      <td>0.692440</td>\n",
       "      <td>-0.00023</td>\n",
       "    </tr>\n",
       "    <tr>\n",
       "      <th>3</th>\n",
       "      <td>2020-06-24 08:40:00</td>\n",
       "      <td>2020-06-24</td>\n",
       "      <td>08:40:00</td>\n",
       "      <td>0.69154</td>\n",
       "      <td>0.69154</td>\n",
       "      <td>0.69116</td>\n",
       "      <td>0.69126</td>\n",
       "      <td>140</td>\n",
       "      <td>0.0</td>\n",
       "      <td>34.903704</td>\n",
       "      <td>...</td>\n",
       "      <td>0.0</td>\n",
       "      <td>0.692176</td>\n",
       "      <td>-0.000147</td>\n",
       "      <td>0.0</td>\n",
       "      <td>0.0</td>\n",
       "      <td>0.0</td>\n",
       "      <td>0.0</td>\n",
       "      <td>0.0</td>\n",
       "      <td>0.692401</td>\n",
       "      <td>-0.00002</td>\n",
       "    </tr>\n",
       "    <tr>\n",
       "      <th>4</th>\n",
       "      <td>2020-06-24 08:41:00</td>\n",
       "      <td>2020-06-24</td>\n",
       "      <td>08:41:00</td>\n",
       "      <td>0.69127</td>\n",
       "      <td>0.69153</td>\n",
       "      <td>0.69123</td>\n",
       "      <td>0.69152</td>\n",
       "      <td>125</td>\n",
       "      <td>0.0</td>\n",
       "      <td>43.583210</td>\n",
       "      <td>...</td>\n",
       "      <td>0.0</td>\n",
       "      <td>0.692150</td>\n",
       "      <td>-0.000171</td>\n",
       "      <td>0.0</td>\n",
       "      <td>0.0</td>\n",
       "      <td>0.0</td>\n",
       "      <td>0.0</td>\n",
       "      <td>0.0</td>\n",
       "      <td>0.692327</td>\n",
       "      <td>-0.00008</td>\n",
       "    </tr>\n",
       "  </tbody>\n",
       "</table>\n",
       "<p>5 rows × 25 columns</p>\n",
       "</div>"
      ],
      "text/plain": [
       "                 Date    new_date  new_time     Open     High      Low  \\\n",
       "0 2020-06-24 08:37:00  2020-06-24  08:37:00  0.69236  0.69244  0.69207   \n",
       "1 2020-06-24 08:38:00  2020-06-24  08:38:00  0.69226  0.69226  0.69163   \n",
       "2 2020-06-24 08:39:00  2020-06-24  08:39:00  0.69177  0.69187  0.69147   \n",
       "3 2020-06-24 08:40:00  2020-06-24  08:40:00  0.69154  0.69154  0.69116   \n",
       "4 2020-06-24 08:41:00  2020-06-24  08:41:00  0.69127  0.69153  0.69123   \n",
       "\n",
       "     Close  Volume  Volatility        ADX  ...  MA1       MA2  MACD_Main  \\\n",
       "0  0.69226      82         0.0   0.000000  ...  0.0  0.692260   0.000000   \n",
       "1  0.69176      76         0.0  13.333333  ...  0.0  0.692240  -0.000040   \n",
       "2  0.69154      87         0.0  24.888889  ...  0.0  0.692213  -0.000088   \n",
       "3  0.69126     140         0.0  34.903704  ...  0.0  0.692176  -0.000147   \n",
       "4  0.69152     125         0.0  43.583210  ...  0.0  0.692150  -0.000171   \n",
       "\n",
       "   MACD_Signal  RSI  Stoch_Main  Stoch_Signal  StdDev      PSAR   Change  \n",
       "0          0.0  0.0         0.0           0.0     0.0  0.000000  0.00037  \n",
       "1          0.0  0.0         0.0           0.0     0.0  0.692440  0.00026  \n",
       "2          0.0  0.0         0.0           0.0     0.0  0.692440 -0.00023  \n",
       "3          0.0  0.0         0.0           0.0     0.0  0.692401 -0.00002  \n",
       "4          0.0  0.0         0.0           0.0     0.0  0.692327 -0.00008  \n",
       "\n",
       "[5 rows x 25 columns]"
      ]
     },
     "execution_count": 5,
     "metadata": {},
     "output_type": "execute_result"
    }
   ],
   "source": [
    "df.head()"
   ]
  },
  {
   "cell_type": "code",
   "execution_count": 6,
   "metadata": {},
   "outputs": [],
   "source": [
    "\n",
    "\n",
    "def featurize_and_split(df, train_dates, test_dates, pred_col = 'High'):\n",
    "    \n",
    "\n",
    "    \n",
    "    interest_columns = ['Open', 'High', 'Low', 'Close', 'Volume', 'Volatility', 'ADX',\n",
    "                    'Ich_TENKANSEN', 'Ich_KIJUNSEN', 'Ich_SENKOUSPANA', 'Ich_SENKOUSPANB',\n",
    "                    'Ich_CHIKOUSPAN', 'MA1', 'MA2', 'MACD_Main', 'MACD_Signal', 'RSI',\n",
    "                    'Stoch_Main', 'Stoch_Signal', 'StdDev', 'PSAR', 'Change'\n",
    "                   ]\n",
    "\n",
    "    date_columns = ['Date', 'new_date', 'new_time']\n",
    "    \n",
    "    if pred_col.lower() == 'high':\n",
    "        pred_col = 'High'\n",
    "    elif pred_col.lower() == 'low':\n",
    "        pred_col = 'Low'\n",
    "    \n",
    "    train_dataset = df[df['new_date'].isin(train_dates)]\n",
    "    test_dataset = df[df['new_date'].isin(test_dates)]\n",
    "    \n",
    "    train_dataset_new = train_dataset.reset_index()\n",
    "    train_dataset_new = train_dataset_new[date_columns + interest_columns]\n",
    "    \n",
    "    test_dataset_new = test_dataset.reset_index()\n",
    "    test_dataset_new = test_dataset_new[date_columns + interest_columns]\n",
    "    \n",
    "    train_target = scaler_target.fit_transform((train_dataset_new[pred_col].to_numpy()).reshape(-1, 1)) \n",
    "    test_target = scaler_target.transform((test_dataset_new[pred_col].to_numpy()).reshape(-1, 1))      \n",
    "    \n",
    "    train_date_df = train_dataset_new[date_columns]\n",
    "    test_date_df = test_dataset_new[date_columns]\n",
    "    \n",
    "    train_dataset_transformed = pd.DataFrame(scaler.fit_transform(train_dataset_new[interest_columns])\n",
    "                                        , columns = interest_columns)\n",
    "    train_dataset_final = pd.concat([train_date_df, train_dataset_transformed], axis=1)\n",
    "\n",
    "    \n",
    "    test_dataset_transformed = pd.DataFrame(scaler.transform(test_dataset_new[interest_columns]), \n",
    "                                       columns=interest_columns)\n",
    "    test_dataset_final = pd.concat([test_date_df, test_dataset_transformed], axis=1)\n",
    "    \n",
    "    return train_dataset_final, train_target, test_dataset_final, test_target\n",
    "    \n",
    "         "
   ]
  },
  {
   "cell_type": "code",
   "execution_count": 7,
   "metadata": {},
   "outputs": [],
   "source": [
    "###### splitting into train test split #######\n",
    "\n",
    "dates = df['new_date'].unique()\n",
    "train_dates, test_dates  = train_test_split(dates, test_size=0.3)"
   ]
  },
  {
   "cell_type": "code",
   "execution_count": 8,
   "metadata": {},
   "outputs": [],
   "source": [
    "a, b, c, d  =featurize_and_split(df, train_dates, test_dates, pred_col = 'High')"
   ]
  },
  {
   "cell_type": "code",
   "execution_count": 9,
   "metadata": {},
   "outputs": [],
   "source": [
    "def create_dataset(df_inc: pd.DataFrame, targets, date_iterator, \n",
    "                   history_points = 30, predict_forecast = 5,\n",
    "                  ):\n",
    "    \n",
    "    sequences = []\n",
    "    all_mode_dates = []\n",
    "    labels = []\n",
    "        \n",
    "    interest_columns = ['Open', 'High', 'Low', 'Close', 'Volume', 'Volatility', 'ADX',\n",
    "                    'Ich_TENKANSEN', 'Ich_KIJUNSEN', 'Ich_SENKOUSPANA', 'Ich_SENKOUSPANB',\n",
    "                    'Ich_CHIKOUSPAN', 'MA1', 'MA2', 'MACD_Main', 'MACD_Signal', 'RSI',\n",
    "                    'Stoch_Main', 'Stoch_Signal', 'StdDev', 'PSAR', 'Change'\n",
    "                   ]\n",
    "        \n",
    "    for date in date_iterator:\n",
    "        \n",
    "        all_dates = []\n",
    "\n",
    "        x = df_inc[df_inc['new_date']==date]\n",
    "  \n",
    "        x.reset_index(inplace=True)\n",
    "        x = x[interest_columns]\n",
    " \n",
    "        for i in range(len(x)-history_points):\n",
    "            \n",
    "            y = x[i:i+history_points]\n",
    "            f = targets[i+history_points: i+ history_points+predict_forecast, 0]\n",
    "            if (y.shape[0] == history_points) and (f.shape[0]==predict_forecast):\n",
    "                sequences.append(y.to_numpy())\n",
    "                labels.append(f)\n",
    "                all_dates.append(date)\n",
    "\n",
    "        all_mode_dates = all_mode_dates + all_dates\n",
    "    \n",
    "    sequences = np.array(sequences)\n",
    "    labels = np.array(labels)\n",
    "    \n",
    "    return sequences, labels, all_mode_dates\n",
    "\n",
    "    \n",
    "    "
   ]
  },
  {
   "cell_type": "code",
   "execution_count": 10,
   "metadata": {},
   "outputs": [],
   "source": [
    "x_train, y_high_train, train_dates_all = create_dataset(a, b, train_dates, \n",
    "                                                        history_points = 30,\n",
    "                                                        predict_forecast=5) #### train"
   ]
  },
  {
   "cell_type": "code",
   "execution_count": 11,
   "metadata": {},
   "outputs": [],
   "source": [
    "x_test, y_high_test, test_dates_all = create_dataset(c, d,\n",
    "                                                     test_dates,\n",
    "                                                     history_points = 30, \n",
    "                                                    predict_forecast = 5) #### test"
   ]
  },
  {
   "cell_type": "code",
   "execution_count": 12,
   "metadata": {},
   "outputs": [
    {
     "data": {
      "text/plain": [
       "array([0.11799148, 0.11479773, 0.10894251, 0.11036196, 0.10858765])"
      ]
     },
     "execution_count": 12,
     "metadata": {},
     "output_type": "execute_result"
    }
   ],
   "source": [
    "y_high_test[0]"
   ]
  },
  {
   "cell_type": "markdown",
   "metadata": {},
   "source": [
    "# Building the deep learning model based on LSTMs"
   ]
  },
  {
   "cell_type": "code",
   "execution_count": 13,
   "metadata": {},
   "outputs": [
    {
     "name": "stderr",
     "output_type": "stream",
     "text": [
      "/home/dell/anaconda3/lib/python3.7/site-packages/torch/nn/_reduction.py:44: UserWarning: size_average and reduce args will be deprecated, please use reduction='mean' instead.\n",
      "  warnings.warn(warning.format(ret))\n"
     ]
    }
   ],
   "source": [
    "import torch \n",
    "import torch.nn as nn\n",
    "\n",
    "\n",
    "class LSTM_Model(nn.Module):\n",
    "\n",
    "    def __init__(self, dimension=128, layers = 3, forecast = 5):\n",
    "        super(LSTM_Model, self).__init__()\n",
    "\n",
    "        self.dimension = dimension\n",
    "        self.layers = layers\n",
    "                \n",
    "        self.lstm = nn.LSTM(input_size=22,\n",
    "                            hidden_size=dimension,\n",
    "                            num_layers=layers,\n",
    "                            batch_first=True,\n",
    "                            bidirectional=False)\n",
    "        self.drop = nn.Dropout(p=0.5)\n",
    "        \n",
    "        self.fc  = nn.Linear(self.dimension, forecast)\n",
    "\n",
    "    def forward(self, packed_input):\n",
    "\n",
    "        output, _ = self.lstm(packed_input)\n",
    "        out_f = output[:, -1, :]\n",
    "        out_f = self.drop(out_f)\n",
    "        out_f = self.fc(out_f)\n",
    "        \n",
    "        return out_f\n",
    "\n",
    "model = LSTM_Model()    \n",
    "loss_fn = nn.MSELoss(size_average=True, reduction='mean')    \n",
    "optimiser = torch.optim.Adam(model.parameters(), lr=0.01)"
   ]
  },
  {
   "cell_type": "code",
   "execution_count": 14,
   "metadata": {},
   "outputs": [
    {
     "name": "stdout",
     "output_type": "stream",
     "text": [
      "LSTM_Model(\n",
      "  (lstm): LSTM(22, 128, num_layers=3, batch_first=True)\n",
      "  (drop): Dropout(p=0.5, inplace=False)\n",
      "  (fc): Linear(in_features=128, out_features=5, bias=True)\n",
      ")\n"
     ]
    }
   ],
   "source": [
    "######## printing the model architecture ##########\n",
    "\n",
    "print(model)"
   ]
  },
  {
   "cell_type": "markdown",
   "metadata": {},
   "source": [
    "# Creating Dataset loaders for consumption during training and testing"
   ]
  },
  {
   "cell_type": "code",
   "execution_count": 15,
   "metadata": {},
   "outputs": [],
   "source": [
    "\n",
    "# make training and test sets in torch\n",
    "x_train = torch.from_numpy(x_train).type(torch.Tensor)\n",
    "x_test = torch.from_numpy(x_test).type(torch.Tensor)\n",
    "y_high_train = torch.from_numpy(np.array(y_high_train)).type(torch.Tensor)\n",
    "y_high_test = torch.from_numpy(np.array(y_high_test)).type(torch.Tensor)\n",
    "\n",
    "batch_size = 64\n",
    "\n",
    "train_high = torch.utils.data.TensorDataset(x_train,y_high_train)\n",
    "test_high = torch.utils.data.TensorDataset(x_test,y_high_test)\n",
    "\n",
    "train_loader = torch.utils.data.DataLoader(dataset=train_high, \n",
    "                                           batch_size=batch_size, \n",
    "                                           shuffle=False)\n",
    "\n",
    "test_loader = torch.utils.data.DataLoader(dataset=test_high, \n",
    "                                          batch_size=batch_size, \n",
    "                                          shuffle=False)"
   ]
  },
  {
   "cell_type": "markdown",
   "metadata": {},
   "source": [
    "# Training the deep learning model "
   ]
  },
  {
   "cell_type": "code",
   "execution_count": 16,
   "metadata": {},
   "outputs": [
    {
     "name": "stdout",
     "output_type": "stream",
     "text": [
      "Running epoch 0\n",
      "Epoch  0 MSE:  9.054153820965439\n",
      "Running epoch 1\n",
      "Epoch  1 MSE:  328.40753480792046\n",
      "Running epoch 2\n",
      "Epoch  2 MSE:  4.334624297451228\n",
      "Running epoch 3\n",
      "Epoch  3 MSE:  6.073913982312661\n",
      "Running epoch 4\n",
      "Epoch  4 MSE:  6.742253355274443\n",
      "Running epoch 5\n",
      "Epoch  5 MSE:  125.58474006992765\n",
      "Running epoch 6\n",
      "Epoch  6 MSE:  11.224802439915948\n",
      "Running epoch 7\n",
      "Epoch  7 MSE:  9.937938918475993\n",
      "Running epoch 8\n",
      "Epoch  8 MSE:  6.195712713059038\n",
      "Running epoch 9\n",
      "Epoch  9 MSE:  3.603805420221761\n",
      "Running epoch 10\n",
      "Epoch  10 MSE:  4.362074387958273\n",
      "Running epoch 11\n",
      "Epoch  11 MSE:  6.203770694555715\n",
      "Running epoch 12\n",
      "Epoch  12 MSE:  6.143741543870419\n",
      "Running epoch 13\n",
      "Epoch  13 MSE:  5.106021917890757\n",
      "Running epoch 14\n",
      "Epoch  14 MSE:  4.2313788153696805\n",
      "Running epoch 15\n",
      "Epoch  15 MSE:  3.842424795264378\n",
      "Running epoch 16\n",
      "Epoch  16 MSE:  4.425043197348714\n",
      "Running epoch 17\n",
      "Epoch  17 MSE:  5.5182563558919355\n",
      "Running epoch 18\n",
      "Epoch  18 MSE:  5.836733340169303\n",
      "Running epoch 19\n",
      "Epoch  19 MSE:  5.359079262241721\n",
      "Running epoch 20\n",
      "Epoch  20 MSE:  4.705435814335942\n",
      "Running epoch 21\n",
      "Epoch  21 MSE:  4.028741942252964\n",
      "Running epoch 22\n",
      "Epoch  22 MSE:  3.4869017254095525\n",
      "Running epoch 23\n",
      "Epoch  23 MSE:  2.9866309501230717\n",
      "Running epoch 24\n",
      "Epoch  24 MSE:  2.5928601706400514\n",
      "Running epoch 25\n",
      "Epoch  25 MSE:  2.4364471242879517\n",
      "Running epoch 26\n",
      "Epoch  26 MSE:  2.359748325077817\n",
      "Running epoch 27\n",
      "Epoch  27 MSE:  2.1264986711903475\n",
      "Running epoch 28\n",
      "Epoch  28 MSE:  1.847634389239829\n",
      "Running epoch 29\n",
      "Epoch  29 MSE:  1.749938274268061\n",
      "Running epoch 30\n",
      "Epoch  30 MSE:  1.7631803074036725\n",
      "Running epoch 31\n",
      "Epoch  31 MSE:  1.737983388826251\n",
      "Running epoch 32\n",
      "Epoch  32 MSE:  1.6162298793788068\n",
      "Running epoch 33\n",
      "Epoch  33 MSE:  1.4696509405621327\n",
      "Running epoch 34\n",
      "Epoch  34 MSE:  1.353289048653096\n",
      "Running epoch 35\n",
      "Epoch  35 MSE:  1.2982611960032955\n",
      "Running epoch 36\n",
      "Epoch  36 MSE:  1.2895422356959898\n",
      "Running epoch 37\n",
      "Epoch  37 MSE:  1.2992016882635653\n",
      "Running epoch 38\n",
      "Epoch  38 MSE:  1.2726407916925382\n",
      "Running epoch 39\n",
      "Epoch  39 MSE:  1.223331696470268\n",
      "Running epoch 40\n",
      "Epoch  40 MSE:  1.1675115854013711\n",
      "Running epoch 41\n",
      "Epoch  41 MSE:  1.1241105437511578\n",
      "Running epoch 42\n",
      "Epoch  42 MSE:  1.1156912457372528\n",
      "Running epoch 43\n",
      "Epoch  43 MSE:  1.1137234498746693\n",
      "Running epoch 44\n",
      "Epoch  44 MSE:  1.1208782585163135\n",
      "Running epoch 45\n",
      "Epoch  45 MSE:  1.1189212072640657\n",
      "Running epoch 46\n",
      "Epoch  46 MSE:  1.0976624598843046\n",
      "Running epoch 47\n",
      "Epoch  47 MSE:  1.0724820033356082\n",
      "Running epoch 48\n",
      "Epoch  48 MSE:  1.0456382543197833\n",
      "Running epoch 49\n",
      "Epoch  49 MSE:  1.03528197290143\n",
      "Running epoch 50\n",
      "Epoch  50 MSE:  1.033030953927664\n",
      "Running epoch 51\n",
      "Epoch  51 MSE:  1.0329471207951428\n",
      "Running epoch 52\n",
      "Epoch  52 MSE:  1.0297930892993463\n",
      "Running epoch 53\n",
      "Epoch  53 MSE:  1.024990435136715\n",
      "Running epoch 54\n",
      "Epoch  54 MSE:  1.0222234556858893\n",
      "Running epoch 55\n",
      "Epoch  55 MSE:  1.0065469750988996\n",
      "Running epoch 56\n",
      "Epoch  56 MSE:  0.9953106268949341\n",
      "Running epoch 57\n",
      "Epoch  57 MSE:  0.9908954316051677\n",
      "Running epoch 58\n",
      "Epoch  58 MSE:  0.9852993023669114\n",
      "Running epoch 59\n",
      "Epoch  59 MSE:  0.9849741923098918\n",
      "Training time: 3752.1919617652893\n"
     ]
    }
   ],
   "source": [
    "# Train model\n",
    "#####################\n",
    "\n",
    "import time\n",
    "\n",
    "num_epochs = 60\n",
    "\n",
    "hist = np.zeros(num_epochs)\n",
    "\n",
    "# Number of steps to unroll\n",
    "#seq_dim =look_back-1 \n",
    "start_time = time.time()\n",
    "\n",
    "for t in range(num_epochs):\n",
    "    # Initialise hidden state\n",
    "    # Don't do this if you want your LSTM to be stateful\n",
    "    #model.hidden = model.init_hidden()\n",
    "    loss_at_epoch = 0\n",
    "    print('Running epoch {}'.format(t))\n",
    "    \n",
    "    \n",
    "    optimiser.zero_grad()\n",
    "    for x_batch, y_batch in train_loader:\n",
    "        \n",
    "        # Zero out gradient, else they will accumulate between epochs\n",
    "        \n",
    "        \n",
    "        # Forward pass\n",
    "        \n",
    "        y_batch_pred = model(x_batch)\n",
    "        loss = loss_fn(y_batch_pred, y_batch)\n",
    "        loss_at_epoch = loss_at_epoch +  loss.item()\n",
    "        # Backward pass\n",
    "        loss.backward()\n",
    "        \n",
    "\n",
    "        \n",
    "    print(\"Epoch \", t, \"MSE: \", loss_at_epoch)\n",
    "    hist[t] = loss_at_epoch\n",
    "    # Update parameters\n",
    "    optimiser.step()\n",
    "    \n",
    "training_time = time.time()-start_time\n",
    "print(\"Training time: {}\".format(training_time))\n",
    "  "
   ]
  },
  {
   "cell_type": "markdown",
   "metadata": {},
   "source": [
    "# Predicting on the test set "
   ]
  },
  {
   "cell_type": "code",
   "execution_count": 47,
   "metadata": {},
   "outputs": [],
   "source": [
    "def get_predictions(model, dataloader, predict_variable = 'high'):\n",
    "    \n",
    "    model.eval()\n",
    "    test_loader = dataloader\n",
    "    \n",
    "    if predict_variable.lower()=='high':\n",
    "        column_index = 1\n",
    "    elif predict_variable.lower()=='low':\n",
    "        column_index = 2\n",
    "    \n",
    "\n",
    "    with torch.no_grad():\n",
    "    \n",
    "        y_pred = []\n",
    "        y_orig = []\n",
    "        previous = []\n",
    "        \n",
    "        for x_test_batch, y_test_batch in test_loader:\n",
    "        \n",
    "            predict = model(x_test_batch)\n",
    "            predict = scaler_target.inverse_transform(predict.detach().numpy())\n",
    "            original = scaler_target.inverse_transform(y_test_batch.detach().numpy())\n",
    "            y_orig  =  y_orig + list(original)\n",
    "            y_pred = y_pred + list(predict)\n",
    "            \n",
    "            prev_for_batch = []\n",
    "            for j in range(x_test_batch.shape[0]):\n",
    "                prev_for_sample = scaler.inverse_transform(x_test_batch[j].detach().numpy())[:, column_index]\n",
    "                prev_for_batch.append(prev_for_sample)\n",
    "            \n",
    "            previous = previous + list(prev_for_batch)\n",
    "\n",
    "    return previous, y_orig, y_pred\n"
   ]
  },
  {
   "cell_type": "code",
   "execution_count": 48,
   "metadata": {},
   "outputs": [],
   "source": [
    "prev, orig, pred = get_predictions(model, test_loader)"
   ]
  },
  {
   "cell_type": "markdown",
   "metadata": {},
   "source": [
    "# Visualizations of Losses and Predictions "
   ]
  },
  {
   "cell_type": "code",
   "execution_count": 18,
   "metadata": {},
   "outputs": [
    {
     "data": {
      "image/png": "[encoded data removed]",
      "text/plain": [
       "<Figure size 432x288 with 1 Axes>"
      ]
     },
     "metadata": {
      "needs_background": "light"
     },
     "output_type": "display_data"
    }
   ],
   "source": [
    "import matplotlib.pyplot as plt\n",
    "\n",
    "##### Printing the Training Loss curves ########\n",
    "\n",
    "plt.plot([i for i in range(num_epochs)], hist)\n",
    "plt.xlabel('epochs')\n",
    "plt.ylabel('training_loss')\n",
    "plt.show()\n",
    "\n",
    "################################################"
   ]
  },
  {
   "cell_type": "code",
   "execution_count": 18,
   "metadata": {},
   "outputs": [],
   "source": [
    "current_date = test_dates_all[0]\n",
    "y1,y2 = [], []\n",
    "\n",
    "for i, j, k in zip(test_dates_all, y_pred, y_orig):\n",
    "    if i == current_date:\n",
    "        y1.append(j)\n",
    "        y2.append(k)"
   ]
  },
  {
   "cell_type": "code",
   "execution_count": 22,
   "metadata": {},
   "outputs": [
    {
     "data": {
      "image/png": "[encoded data removed]",
      "text/plain": [
       "<Figure size 432x288 with 1 Axes>"
      ]
     },
     "metadata": {
      "needs_background": "light"
     },
     "output_type": "display_data"
    }
   ],
   "source": [
    "##### Printing the Training Loss curves ########\n",
    "\n",
    "plt.plot([i for i in range(len(y_orig))], y1, color='red')\n",
    "plt.plot([i for i in range(len(y1))], y2, color='blue')\n",
    "plt.xlabel('time')\n",
    "plt.ylabel('high')\n",
    "plt.show()"
   ]
  },
  {
   "cell_type": "code",
   "execution_count": 60,
   "metadata": {},
   "outputs": [],
   "source": [
    "def plot_for_a_sequence(prev, orig, pred):\n",
    "    hor = [i for i in range(len(prev)+len(pred))]\n",
    "    line_orig = list(prev) + list(orig)\n",
    "    line_pred = list(prev) + list(pred)\n",
    "    plt.plot(hor, line_orig, color='red')\n",
    "    plt.plot(hor, line_pred, color = 'blue')\n",
    "    plt.xlabel('time')\n",
    "    plt.ylabel('high')\n",
    "    plt.show()\n",
    "    \n",
    "    "
   ]
  },
  {
   "cell_type": "code",
   "execution_count": 71,
   "metadata": {},
   "outputs": [
    {
     "data": {
      "image/png": "[encoded data removed]",
      "text/plain": [
       "<Figure size 432x288 with 1 Axes>"
      ]
     },
     "metadata": {
      "needs_background": "light"
     },
     "output_type": "display_data"
    }
   ],
   "source": [
    "plot_for_a_sequence(prev[109], orig[109], pred[109])"
   ]
  },
  {
   "cell_type": "code",
   "execution_count": 69,
   "metadata": {},
   "outputs": [
    {
     "data": {
      "text/plain": [
       "array([0.68793875, 0.68778825, 0.68799376, 0.6877396 , 0.6880991 ],\n",
       "      dtype=float32)"
      ]
     },
     "execution_count": 69,
     "metadata": {},
     "output_type": "execute_result"
    }
   ],
   "source": [
    "pred[121]"
   ]
  },
  {
   "cell_type": "code",
   "execution_count": 70,
   "metadata": {},
   "outputs": [
    {
     "data": {
      "text/plain": [
       "array([0.68797   , 0.68806005, 0.68821   , 0.68816   , 0.6883    ],\n",
       "      dtype=float32)"
      ]
     },
     "execution_count": 70,
     "metadata": {},
     "output_type": "execute_result"
    }
   ],
   "source": [
    "orig[121]"
   ]
  },
  {
   "cell_type": "code",
   "execution_count": null,
   "metadata": {},
   "outputs": [],
   "source": []
  }
 ],
 "metadata": {
  "kernelspec": {
   "display_name": "Python 3",
   "language": "python",
   "name": "python3"
  },
  "language_info": {
   "codemirror_mode": {
    "name": "ipython",
    "version": 3
   },
   "file_extension": ".py",
   "mimetype": "text/x-python",
   "name": "python",
   "nbconvert_exporter": "python",
   "pygments_lexer": "ipython3",
   "version": "3.7.4"
  }
 },
 "nbformat": 4,
 "nbformat_minor": 2
}
